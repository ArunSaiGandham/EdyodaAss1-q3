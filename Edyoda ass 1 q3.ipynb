{
 "cells": [
  {
   "cell_type": "markdown",
   "id": "ff8a3052",
   "metadata": {},
   "source": [
    "# Write a Python program to count the number of even and odd numbers from a series of numbers.\n"
   ]
  },
  {
   "cell_type": "code",
   "execution_count": 2,
   "id": "31875785",
   "metadata": {},
   "outputs": [
    {
     "name": "stdout",
     "output_type": "stream",
     "text": [
      "Number of even numbers :  4\n",
      "Number of odd numbers :  5\n"
     ]
    }
   ],
   "source": [
    "t = (1,2,3,4,5,6,7,8,9)\n",
    "even = 0;\n",
    "odd = 0;\n",
    "for e in t:\n",
    "    if(e%2 == 0):\n",
    "        even += 1\n",
    "    else:\n",
    "        odd += 1\n",
    "print(\"Number of even numbers : \",even)\n",
    "print(\"Number of odd numbers : \",odd)"
   ]
  },
  {
   "cell_type": "code",
   "execution_count": null,
   "id": "c922e9a1",
   "metadata": {},
   "outputs": [],
   "source": []
  }
 ],
 "metadata": {
  "kernelspec": {
   "display_name": "Python 3",
   "language": "python",
   "name": "python3"
  },
  "language_info": {
   "codemirror_mode": {
    "name": "ipython",
    "version": 3
   },
   "file_extension": ".py",
   "mimetype": "text/x-python",
   "name": "python",
   "nbconvert_exporter": "python",
   "pygments_lexer": "ipython3",
   "version": "3.8.8"
  }
 },
 "nbformat": 4,
 "nbformat_minor": 5
}
